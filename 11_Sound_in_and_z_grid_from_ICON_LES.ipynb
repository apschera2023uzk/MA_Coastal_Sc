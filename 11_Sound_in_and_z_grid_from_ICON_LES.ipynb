{
 "cells": [
  {
   "cell_type": "code",
   "execution_count": 1,
   "id": "ace008f1",
   "metadata": {},
   "outputs": [],
   "source": [
    "# Methode, um sound_in Datei zu schreiben:\n",
    "\n",
    "import numpy as np\n",
    "\n",
    "def write_sounding_string(ps=1013.25, zs=np.array([500,1000,1500]), Thetas=np.array([288, 289, 300]),\\\n",
    "                          qs=np.array([10.1, 8, 9]), us=np.array([7, 6, 8]), vs=np.array([7, 6, 8]), zmax=5000,\n",
    "                         filename = \"sound_in_python\"):\n",
    "    \n",
    "    # Erste Zeile mit ps und den ersten Werten von Thetas, qs, us, vs\n",
    "    text = f\"  {ps:8.3f}{'':3}\".zfill(8)\n",
    "    for values in [Thetas[0], qs[0], us[0], vs[0]]:\n",
    "        text += f\"{values:7.3f}{'':3}\".zfill(7)\n",
    "\n",
    "    # Zeilen 2 bis len(zs)+1\n",
    "    for z, Theta, q, u, v in zip(zs, Thetas, qs, us, vs):\n",
    "        ###########\n",
    "        # Ist die Null in zweiter Zeile Grund fuer dne Abbruch?\n",
    "        if z==0:\n",
    "            continue\n",
    "        ##########3\n",
    "        text += f\"\\n  {z:8.3f}{'':3}\".zfill(8)\n",
    "        for values in [Theta, q, u, v]:\n",
    "            text += f\"{values:7.3f}{'':3}\".zfill(7)\n",
    "            \n",
    "        ########33\n",
    "        # Abbruch in unterer Atmosphaere:\n",
    "        if z>zmax:\n",
    "            break\n",
    "        ###########\n",
    "            \n",
    "    new_file = open(filename,\"w\")\n",
    "    new_file.write(text)\n",
    "    new_file.close()\n",
    "\n",
    "    return text"
   ]
  },
  {
   "cell_type": "code",
   "execution_count": 2,
   "id": "7fb519de",
   "metadata": {},
   "outputs": [
    {
     "name": "stderr",
     "output_type": "stream",
     "text": [
      "/usr/lib/python3/dist-packages/scipy/__init__.py:146: UserWarning: A NumPy version >=1.17.3 and <1.25.0 is required for this version of SciPy (detected version 1.26.4\n",
      "  warnings.warn(f\"A NumPy version >={np_minversion} and <{np_maxversion}\"\n"
     ]
    },
    {
     "name": "stdout",
     "output_type": "stream",
     "text": [
      "Data variables:\n",
      "    clon_bnds      (ncells, vertices) float32 12B ...\n",
      "    clat_bnds      (ncells, vertices) float32 12B ...\n",
      "    height_bnds    (height, bnds) float64 3kB ...\n",
      "    height_3_bnds  (height_3, bnds) float64 3kB ...\n",
      "    qv             (time, height, ncells) float32 250kB ...\n",
      "    qc             (time, height, ncells) float32 250kB ...\n",
      "    qi             (time, height, ncells) float32 250kB ...\n",
      "    qr             (time, height, ncells) float32 250kB ...\n",
      "    qs             (time, height, ncells) float32 250kB ...\n",
      "    qg             (time, height, ncells) float32 250kB ...\n",
      "    qh             (time, height, ncells) float32 250kB ...\n",
      "    qnc            (time, height, ncells) float32 250kB ...\n",
      "    qni            (time, height, ncells) float32 250kB ...\n",
      "    qnr            (time, height, ncells) float32 250kB ...\n",
      "    qns            (time, height, ncells) float32 250kB ...\n",
      "    qng            (time, height, ncells) float32 250kB ...\n",
      "    qnh            (time, height, ncells) float32 250kB ...\n",
      "    u              (time, height, ncells) float32 250kB ...\n",
      "    v              (time, height, ncells) float32 250kB ...\n",
      "    w              (time, height_2, ncells) float32 252kB ...\n",
      "    rh             (time, height, ncells) float32 250kB ...\n",
      "    temp           (time, height, ncells) float32 250kB ...\n",
      "    pres           (time, height, ncells) float32 250kB ...\n",
      "    theta_v        (time, height, ncells) float32 250kB ...\n",
      "    z_mc           (height, ncells) float32 800B ...\n",
      "    z_ifc          (height_3, ncells) float32 804B ...\n",
      "    tqc            (time, ncells) float32 1kB ...\n",
      "    tqi            (time, ncells) float32 1kB ...\n",
      "    tqv            (time, ncells) float32 1kB ...\n",
      "    tqr            (time, ncells) float32 1kB ...\n",
      "    tqs            (time, ncells) float32 1kB ...\n"
     ]
    }
   ],
   "source": [
    "import xarray as xr\n",
    "\n",
    "ds = xr.open_dataset(\"/home/qwertz/data_js_icon_22_23_August_2018/stat_IQQ_all-times.nc\")\n",
    "\n",
    "\n",
    "print(ds.data_vars)\n",
    "# print(ds.z_ifc.values)\n",
    "\n",
    "string = write_sounding_string(ps=ds[\"pres\"].isel(ncells=0).sel(time=20180822.0).values[-1]/100,\\\n",
    "                      zs=ds[\"z_mc\"].isel(ncells=0).values[::-1],\\\n",
    "                      Thetas=ds[\"theta_v\"].isel(ncells=0).sel(time=20180822.0).values[::-1],\\\n",
    "                          qs=ds[\"qv\"].isel(ncells=0).sel(time=20180822.0).values[::-1]*1000,\\\n",
    "                      us=ds[\"u\"].isel(ncells=0).sel(time=20180822.0).values[::-1],\\\n",
    "                      vs=ds[\"v\"].isel(ncells=0).sel(time=20180822.0).values[::-1], zmax=5000,\n",
    "                         filename = \"sound_in_iconles\")"
   ]
  },
  {
   "cell_type": "code",
   "execution_count": 3,
   "id": "ebf9a33f",
   "metadata": {},
   "outputs": [
    {
     "name": "stdout",
     "output_type": "stream",
     "text": [
      "[   0.         59.636677   83.18278   112.13497   144.2803    178.83559\n",
      "  215.38422   253.65506   293.45566   334.6415    377.0998    420.73978\n",
      "  465.48672   511.2781    558.0607    605.7887    654.42224   703.92633\n",
      "  754.2701    805.42596   857.3693    910.078     963.5319   1017.7129\n",
      " 1072.6044   1128.1913   1184.4597   1241.397    1298.9913   1357.2319\n",
      " 1416.1089   1475.613    1535.7357   1596.469    1657.8055   1719.7385\n",
      " 1782.2616   1845.3688   1909.0547   1973.3142   2038.1426   2103.5352\n",
      " 2169.488    2235.9976   2303.0596   2370.6714   2438.8296   2507.5315\n",
      " 2576.7744   2646.556   ]\n",
      "[-1.0000000e+00  4.9636677e+01  6.9636673e+01  9.6728874e+01\n",
      "  1.2754107e+02  1.6101953e+02  1.9665164e+02  2.3411679e+02\n",
      "  2.7319333e+02  3.1371799e+02  3.5556503e+02  3.9863455e+02\n",
      "  4.4284497e+02  4.8812848e+02  5.3442773e+02  5.8169366e+02\n",
      "  6.2988373e+02  6.7896075e+02  7.2889197e+02  7.7964825e+02\n",
      "  8.3120367e+02  8.8353497e+02  9.3662103e+02  9.9044281e+02\n",
      "  1.0449830e+03  1.1002258e+03  1.1561569e+03  1.2127627e+03\n",
      "  1.2700312e+03  1.3279514e+03  1.3865126e+03  1.4457053e+03\n",
      "  1.5055208e+03  1.5659506e+03  1.6269873e+03  1.6886237e+03\n",
      "  1.7508533e+03  1.8136698e+03  1.8770677e+03  1.9410417e+03\n",
      "  2.0055868e+03  2.0706982e+03  2.1363721e+03  2.2026042e+03\n",
      "  2.2693909e+03  2.3367285e+03  2.4046143e+03  2.4730449e+03\n",
      "  2.5420181e+03  2.6115308e+03]\n"
     ]
    },
    {
     "data": {
      "text/plain": [
       "0"
      ]
     },
     "execution_count": 3,
     "metadata": {},
     "output_type": "execute_result"
    }
   ],
   "source": [
    "# Determine Vertical grid in ICON (This is only Iquique - should I talk about differences...):\n",
    "\n",
    "new_zm = np.insert(ds[\"z_mc\"].isel(ncells=0).values[:-50:-1], 0, 0.)\n",
    "new_zt = np.insert(ds[\"z_ifc\"].isel(ncells=0).values[:-50:-1], 0, -1.)\n",
    "\n",
    "print(new_zm)\n",
    "print(new_zt)\n",
    "\n",
    "# Write this into z_grid file:\n",
    "def write_zs_into_zgrid_file(zs, filename=\"zm_grid_in_example\"):\n",
    "    text = \"\"\n",
    "    for z_value in zs:\n",
    "        text += f\"{z_value:.1f}\".rjust(7)+\"\\n\"\n",
    "    \n",
    "    newfile = open(filename, \"w\")\n",
    "    newfile.write(text)\n",
    "    newfile.close()\n",
    "    return 0\n",
    "\n",
    "write_zs_into_zgrid_file(new_zm)\n",
    "write_zs_into_zgrid_file(new_zt, filename=\"zt_grid_in_ICONLES\")"
   ]
  },
  {
   "cell_type": "code",
   "execution_count": 4,
   "id": "a0a71153",
   "metadata": {},
   "outputs": [
    {
     "name": "stdout",
     "output_type": "stream",
     "text": [
      "[59.6 23.6 28.9 32.2 34.5 36.6 38.3 39.8 41.1 42.5 43.6 44.8 45.8 46.8\n",
      " 47.7 48.6 49.5 50.4 51.1 52.  52.7 53.4 54.2 54.9 55.6 56.3 56.9 57.6\n",
      " 58.2 58.9 59.5 60.1 60.8 61.3 61.9 62.6 63.1 63.7 64.2 64.8 65.4 66.\n",
      " 66.5 67.1 67.6 68.1 68.7 69.3 69.8]\n"
     ]
    }
   ],
   "source": [
    "# Read in grid:\n",
    "\n",
    "def read_zgrid_from_file(filename):\n",
    "    zarray = []\n",
    "    gridfile = open(filename, \"r\")\n",
    "    for line in gridfile.readlines():\n",
    "        zarray.append(float(line))\n",
    "    gridfile.close()    \n",
    "    zarray = np.array(zarray)\n",
    "    return zarray\n",
    "\n",
    "zarray = read_zgrid_from_file(\"zm_grid_in_example\")\n",
    "\n",
    "print(np.diff(zarray))"
   ]
  },
  {
   "cell_type": "code",
   "execution_count": null,
   "id": "5d4d7147",
   "metadata": {},
   "outputs": [],
   "source": []
  }
 ],
 "metadata": {
  "kernelspec": {
   "display_name": "Python 3 (ipykernel)",
   "language": "python",
   "name": "python3"
  },
  "language_info": {
   "codemirror_mode": {
    "name": "ipython",
    "version": 3
   },
   "file_extension": ".py",
   "mimetype": "text/x-python",
   "name": "python",
   "nbconvert_exporter": "python",
   "pygments_lexer": "ipython3",
   "version": "3.10.12"
  }
 },
 "nbformat": 4,
 "nbformat_minor": 5
}
